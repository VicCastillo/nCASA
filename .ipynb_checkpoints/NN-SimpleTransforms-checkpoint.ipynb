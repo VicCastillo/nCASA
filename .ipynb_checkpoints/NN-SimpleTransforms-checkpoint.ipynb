{
 "metadata": {
  "name": "",
  "signature": "sha256:1613d75b0584e70bf2c88d4e6281454817b94c49bab0a0203fabf39ee32cbdc6"
 },
 "nbformat": 3,
 "nbformat_minor": 0,
 "worksheets": [
  {
   "cells": [
    {
     "cell_type": "code",
     "collapsed": false,
     "input": [
      "import numpy as np\n",
      "from numpy import sin, linspace, pi\n",
      "from numpy.fft import fftfreq\n",
      "import scipy as sp\n",
      "from scipy import fft, arange\n",
      "from scipy.io.wavfile import read, write\n",
      "%matplotlib inline\n",
      "import matplotlib.pyplot as plt\n",
      "import matplotlib.cm as cm\n",
      "#from __future__ import division\n",
      "#from matplotlib.pyplot import specgram\n",
      "#import winsound as ws\n",
      "#import wave as wv\n",
      "#import array as ar\n",
      "\n"
     ],
     "language": "python",
     "metadata": {},
     "outputs": [
      {
       "ename": "ImportError",
       "evalue": "No module named pylearn2",
       "output_type": "pyerr",
       "traceback": [
        "\u001b[0;31m---------------------------------------------------------------------------\u001b[0m\n\u001b[0;31mImportError\u001b[0m                               Traceback (most recent call last)",
        "\u001b[0;32m<ipython-input-4-76b8b5e328fb>\u001b[0m in \u001b[0;36m<module>\u001b[0;34m()\u001b[0m\n\u001b[1;32m      7\u001b[0m \u001b[0;32mimport\u001b[0m \u001b[0mmatplotlib\u001b[0m\u001b[0;34m.\u001b[0m\u001b[0mpyplot\u001b[0m \u001b[0;32mas\u001b[0m \u001b[0mplt\u001b[0m\u001b[0;34m\u001b[0m\u001b[0m\n\u001b[1;32m      8\u001b[0m \u001b[0;32mimport\u001b[0m \u001b[0mmatplotlib\u001b[0m\u001b[0;34m.\u001b[0m\u001b[0mcm\u001b[0m \u001b[0;32mas\u001b[0m \u001b[0mcm\u001b[0m\u001b[0;34m\u001b[0m\u001b[0m\n\u001b[0;32m----> 9\u001b[0;31m \u001b[0;32mimport\u001b[0m \u001b[0mpylearn2\u001b[0m\u001b[0;34m\u001b[0m\u001b[0m\n\u001b[0m\u001b[1;32m     10\u001b[0m \u001b[0;31m#from __future__ import division\u001b[0m\u001b[0;34m\u001b[0m\u001b[0;34m\u001b[0m\u001b[0m\n\u001b[1;32m     11\u001b[0m \u001b[0;31m#from matplotlib.pyplot import specgram\u001b[0m\u001b[0;34m\u001b[0m\u001b[0;34m\u001b[0m\u001b[0m\n",
        "\u001b[0;31mImportError\u001b[0m: No module named pylearn2"
       ]
      }
     ],
     "prompt_number": 4
    },
    {
     "cell_type": "code",
     "collapsed": false,
     "input": [
      "# sound data file directory\n",
      "datadir = \"/Users/ksk/ncasa/\"\n",
      "\n",
      "#sound files\n",
      "cardinalfile = datadir + 'cardinal.wav'\n",
      "noteA4file   = datadir + 'NoteA4_8000Hz_2sec.wav'\n",
      "noteF5file   = datadir + 'NoteF5_8000Hz_2sec.wav'\n",
      "synthfile    = datadir + 'Synth01.wav'\n",
      "\n",
      "wavedata = read(cardinalfile)\n",
      "##wavedata[0] is the sample rate\n",
      "##wavedata[1] is the time series "
     ],
     "language": "python",
     "metadata": {},
     "outputs": [],
     "prompt_number": 5
    },
    {
     "cell_type": "code",
     "collapsed": false,
     "input": [
      "#import scipy, pylab\n",
      "\n",
      "def stft(x, fs, framesamp, hopsamp):\n",
      "    w = sp.hamming(framesamp)\n",
      "    X = sp.array([sp.fft(w*x[i:i+framesamp]) \n",
      "                     for i in range(0, len(x)-framesamp, hopsamp)])\n",
      "    return X\n",
      "\n",
      "def istft(X, fs, T, hopsamp):\n",
      "    x = sp.zeros(T*fs)\n",
      "    framesamp = 128 #X.shape[1]\n",
      "    for n,i in enumerate(range(0, len(x)-framesamp, hopsamp)):\n",
      "        x[i:i+framesamp] += sp.real(sp.ifft(X[n]))\n",
      "    return x\n",
      "\n",
      "def plot_time(signal):\n",
      "    plt.figure(figsize=(20,3))\n",
      "    plt.plot(signal)\n",
      "    plt.xlabel(\"Samples\")\n",
      "    plt.show()\n",
      "\n",
      "    ##Need to redo scaling for tick labels\n",
      "def colorarray(specArray):\n",
      "    maxpower = np.amax(specArray)\n",
      "    plt.figure(figsize=(15,10))\n",
      "    plt.xlabel(\"Time(sec)\")\n",
      "    plt.ylabel(\"Freq(Hz)\")\n",
      "\n",
      "    #xlocs,xlabs = plt.xticks() \n",
      "    #ylocs,ylabs = plt.yticks()\n",
      "    #plt.yticks(ylocs,ylocs.__mul__(440/14).round(2))\n",
      "    plt.pcolor(specArray.__div__(maxpower))\n",
      "    plt.colorbar()\n",
      "    print \"Color plot of spectral-temporal data matrix: \"\n"
     ],
     "language": "python",
     "metadata": {},
     "outputs": [],
     "prompt_number": 6
    },
    {
     "cell_type": "code",
     "collapsed": false,
     "input": [
      "fs = wavedata[0] #sample rate\n",
      "x  = wavedata[1] #time series\n",
      "plot_time(x)\n",
      "\n",
      "X = stft(x, fs, 128, 64) #transform into frequency domain\n",
      "\n",
      "##Squaring real and imaginary components and taking square root\n",
      "\n",
      "Xnew = np.sqrt(X.real**2 + X.imag**2)\n",
      "colorarray(Xnew.T)\n",
      "\n",
      "nsamples = 40879\n",
      "T = nsamples/fs\n",
      "xnew = istft(X, fs, T, 64) #transfer back ingto time domain\n",
      "\n",
      "xnewint = xnew.astype(np.int16)\n",
      "plot_time(xnewint)\n",
      "\n",
      "print X.shape\n"
     ],
     "language": "python",
     "metadata": {},
     "outputs": [
      {
       "output_type": "stream",
       "stream": "stdout",
       "text": [
        "Color plot of spectral-temporal data matrix: \n",
        "(637, 128)"
       ]
      },
      {
       "output_type": "stream",
       "stream": "stdout",
       "text": [
        "\n"
       ]
      }
     ],
     "prompt_number": 7
    },
    {
     "cell_type": "code",
     "collapsed": false,
     "input": [
      "write(datadir+'cardinal2.wav', fs, xnewint)"
     ],
     "language": "python",
     "metadata": {},
     "outputs": [],
     "prompt_number": 8
    },
    {
     "cell_type": "code",
     "collapsed": false,
     "input": [
      "print fs"
     ],
     "language": "python",
     "metadata": {},
     "outputs": [
      {
       "output_type": "stream",
       "stream": "stdout",
       "text": [
        "11025\n"
       ]
      }
     ],
     "prompt_number": 9
    },
    {
     "cell_type": "code",
     "collapsed": false,
     "input": [],
     "language": "python",
     "metadata": {},
     "outputs": []
    }
   ],
   "metadata": {}
  }
 ]
}
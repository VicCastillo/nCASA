{
 "metadata": {
  "name": "",
  "signature": "sha256:7bcdf108d1ce0764ed84b872e02ada9d6a4b63e49401ce2937f89a809d2f25e1"
 },
 "nbformat": 3,
 "nbformat_minor": 0,
 "worksheets": [
  {
   "cells": [
    {
     "cell_type": "code",
     "collapsed": false,
     "input": [
      "import numpy as np\n",
      "from numpy import sin, linspace, pi\n",
      "from numpy.fft import fftfreq\n",
      "import scipy as sp\n",
      "from scipy import fft, arange\n",
      "from scipy.io.wavfile import read, write\n",
      "import matplotlib.pyplot as plt\n",
      "import matplotlib.cm as cm\n",
      "from __future__ import division\n",
      "from matplotlib.pyplot import specgram\n",
      "import winsound as ws\n",
      "import wave as wv\n",
      "\n",
      "%matplotlib inline\n"
     ],
     "language": "python",
     "metadata": {},
     "outputs": [],
     "prompt_number": 1
    },
    {
     "cell_type": "code",
     "collapsed": false,
     "input": [
      "# sound data file directory\n",
      "datadir = \"C:\\\\Users\\\\castillo3\\\\Documents\\\\GitHub\\\\nCASA\\\\\"\n",
      "\n",
      "##Sound from a cardinal ##http://www.grsites.com/archive/sounds/category/10/?offset=12\n",
      "cardinal = read(datadir+'cardinal.wav')\n",
      "##cardinal[0] is the sample rate\n",
      "##cardinal[1] is the wav data\n",
      "\n",
      "#read the wav file as a numpy array\n",
      "synth = read(datadir+'Synth01.wav')\n",
      "\n",
      "#read a 2sec A4 note (440Hz)\n",
      "NoteA4 = read(datadir+'NoteA4_8000Hz_2sec.wav')\n",
      "#ws.Beep(440,1000)\n",
      "ws.PlaySound(datadir+'cardinal.wav', ws.SND_ALIAS)"
     ],
     "language": "python",
     "metadata": {},
     "outputs": [],
     "prompt_number": 2
    },
    {
     "cell_type": "code",
     "collapsed": false,
     "input": [
      "wvdata = wv.open(datadir+'cardinal.wav', mode=None)\n",
      "nchannels, sampwidth, framerate, nframes, comptype, compname = wvdata.getparams()\n",
      "print \"Number of channels: \", nchannels\n",
      "print \"Sample width: \", sampwidth\n",
      "print \"Number of frames: \", nframes"
     ],
     "language": "python",
     "metadata": {},
     "outputs": [
      {
       "output_type": "stream",
       "stream": "stdout",
       "text": [
        "Number of channels:  1\n",
        "Sample width:  2\n",
        "Number of frames:  40879\n"
       ]
      }
     ],
     "prompt_number": 9
    },
    {
     "cell_type": "code",
     "collapsed": false,
     "input": [
      "len(cardinal[1])\n"
     ],
     "language": "python",
     "metadata": {},
     "outputs": [
      {
       "metadata": {},
       "output_type": "pyout",
       "prompt_number": 11,
       "text": [
        "40879"
       ]
      }
     ],
     "prompt_number": 11
    },
    {
     "cell_type": "code",
     "collapsed": false,
     "input": [],
     "language": "python",
     "metadata": {},
     "outputs": []
    }
   ],
   "metadata": {}
  }
 ]
}
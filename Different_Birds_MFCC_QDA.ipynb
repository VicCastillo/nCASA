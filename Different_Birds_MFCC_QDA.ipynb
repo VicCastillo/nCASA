{
 "metadata": {
  "name": "",
  "signature": "sha256:57225d1b08859afce443faa9b89189a58df1897e0f7e392930e2d56e92a8d26c"
 },
 "nbformat": 3,
 "nbformat_minor": 0,
 "worksheets": [
  {
   "cells": [
    {
     "cell_type": "code",
     "collapsed": false,
     "input": [
      "import numpy as np\n",
      "from numpy import sin, linspace, pi\n",
      "from numpy.fft import fftfreq\n",
      "import scipy as sp\n",
      "from scipy import fft, arange\n",
      "from scipy.io.wavfile import read, write\n",
      "%matplotlib inline\n",
      "import matplotlib.pyplot as plt\n",
      "import matplotlib.cm as cm\n",
      "from __future__ import division\n",
      "from matplotlib.pyplot import specgram\n",
      "\n",
      "\n",
      "from features import mfcc\n",
      "from features import logfbank\n",
      "import scipy.io.wavfile as wav\n",
      "\n",
      "##dependencies for gaussian-mixture model\n",
      "from sklearn.cross_validation import StratifiedKFold\n",
      "from sklearn.externals.six.moves import xrange\n",
      "from sklearn.mixture import GMM\n",
      "\n",
      "\n",
      "##confusion matrix, classification report\n",
      "from sklearn.metrics import confusion_matrix, classification_report\n",
      "\n",
      "\n",
      "##quadric discriminant analysis\n",
      "from sklearn.qda import QDA"
     ],
     "language": "python",
     "metadata": {},
     "outputs": []
    },
    {
     "cell_type": "code",
     "collapsed": false,
     "input": [
      "##load the datafiles into the notebook\n",
      "\n",
      "##bird sounds are from : http://science.ehc.edu/~shopp/song.html"
     ],
     "language": "python",
     "metadata": {},
     "outputs": []
    }
   ],
   "metadata": {}
  }
 ]
}
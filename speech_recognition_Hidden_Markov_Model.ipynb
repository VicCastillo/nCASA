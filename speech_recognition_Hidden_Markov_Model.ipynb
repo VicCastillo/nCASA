{
 "metadata": {
  "name": "",
  "signature": "sha256:6409e224dc0a99b239f07b5ae9e30ab9b32f85bc6f57025bcc54c1175e9a3415"
 },
 "nbformat": 3,
 "nbformat_minor": 0,
 "worksheets": [
  {
   "cells": [
    {
     "cell_type": "code",
     "collapsed": false,
     "input": [
      "##will follow this tutorial to implement speech recognition\n",
      "#http://kastnerkyle.github.io/blog/2014/05/22/single-speaker-speech-recognition/\n",
      "##will use similar model for bird sounds"
     ],
     "language": "python",
     "metadata": {},
     "outputs": []
    },
    {
     "cell_type": "code",
     "collapsed": false,
     "input": [
      "###This piece of code/data is hosted on Kyle Kastner's webpage\n",
      "###Original dataset comes from Google Code\n",
      "\n",
      "\n",
      "%matplotlib inline\n",
      "from utils import progress_bar_downloader\n",
      "import os\n",
      "\n",
      "#Hosting files on my dropbox since downloading from google code is painful\n",
      "#Original project hosting is here: https://code.google.com/p/hmm-speech-recognition/downloads/list\n",
      "#Audio is included in the zip file\n",
      "link = 'https://dl.dropboxusercontent.com/u/15378192/audio.tar.gz'\n",
      "dlname = 'audio.tar.gz'\n",
      "\n",
      "if not os.path.exists('./%s'%dlname):\n",
      "    progress_bar_downloader(link, dlname)\n",
      "    os.system('tar xzf %s'%dlname)\n",
      "else:\n",
      "    print '%s already downloaded!'%dlname"
     ],
     "language": "python",
     "metadata": {},
     "outputs": []
    },
    {
     "cell_type": "code",
     "collapsed": false,
     "input": [],
     "language": "python",
     "metadata": {},
     "outputs": []
    }
   ],
   "metadata": {}
  }
 ]
}